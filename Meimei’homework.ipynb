{
 "cells": [
  {
   "cell_type": "code",
   "execution_count": 7,
   "id": "0db04cec",
   "metadata": {},
   "outputs": [
    {
     "name": "stdout",
     "output_type": "stream",
     "text": [
      "(['grape', 'banana', 'pear', 'peach'], ['celery', 'white cabbage', 'cucumber'])\n"
     ]
    }
   ],
   "source": [
    "fruits = ['grape','banana','pear','peach']\n",
    "vegetables = ['celery','white cabbage','cucumber']\n",
    "t = fruits , vegetables\n",
    "print(t)"
   ]
  },
  {
   "cell_type": "code",
   "execution_count": 8,
   "id": "b9310895",
   "metadata": {},
   "outputs": [
    {
     "name": "stdout",
     "output_type": "stream",
     "text": [
      "(['grape', 'banana', 'pear', 'peach'], ['celery', 'white cabbage', 'cucumber'])\n"
     ]
    }
   ],
   "source": [
    "fruits_vegetables = t\n",
    "print(fruits_vegetables)"
   ]
  },
  {
   "cell_type": "code",
   "execution_count": 9,
   "id": "e0e623ef",
   "metadata": {},
   "outputs": [
    {
     "name": "stdout",
     "output_type": "stream",
     "text": [
      "7\n"
     ]
    }
   ],
   "source": [
    "number = len(fruits)+len(vegetables)\n",
    "print(number)"
   ]
  },
  {
   "cell_type": "code",
   "execution_count": 10,
   "id": "df446249",
   "metadata": {},
   "outputs": [
    {
     "name": "stdout",
     "output_type": "stream",
     "text": [
      "(['grape', 'cherry', 'pear', 'peach'], ['celery', 'white cabbage', 'lettuce'])\n",
      "('straw mushroom', 'button mushroom', 'coffee', 'fruit tea', 'milk', (['grape', 'cherry', 'pear', 'peach'], ['celery', 'white cabbage', 'lettuce']))\n"
     ]
    }
   ],
   "source": [
    "fruits_vegetables[0][1] = 'cherry'\n",
    "fruits_vegetables[1][2] = 'lettuce'\n",
    "food_tuple = 'straw mushroom','button mushroom','coffee','fruit tea','milk',fruits_vegetables\n",
    "print(fruits_vegetables)\n",
    "print(food_tuple)"
   ]
  },
  {
   "cell_type": "code",
   "execution_count": 11,
   "id": "7c71114b",
   "metadata": {},
   "outputs": [
    {
     "name": "stdout",
     "output_type": "stream",
     "text": [
      "['straw mushroom', 'button mushroom', 'coffee', 'fruit tea', 'milk', (['grape', 'cherry', 'pear', 'peach'], ['celery', 'white cabbage', 'lettuce'])] <class 'list'>\n"
     ]
    }
   ],
   "source": [
    "food_list = list(food_tuple)\n",
    "print(food_list, type(food_list))"
   ]
  },
  {
   "cell_type": "code",
   "execution_count": 12,
   "id": "1043f980",
   "metadata": {},
   "outputs": [
    {
     "name": "stdout",
     "output_type": "stream",
     "text": [
      "['straw mushroom', 'button mushroom', 'fruit tea', 'milk', (['grape', 'cherry', 'pear', 'peach'], ['celery', 'white cabbage', 'lettuce'])]\n"
     ]
    }
   ],
   "source": [
    "del food_list[2]\n",
    "print(food_list)"
   ]
  },
  {
   "cell_type": "code",
   "execution_count": 13,
   "id": "351560fe",
   "metadata": {},
   "outputs": [
    {
     "name": "stdout",
     "output_type": "stream",
     "text": [
      "['straw mushroom', 'button mushroom', 'fruit tea']\n",
      "['fruit tea', 'milk', (['grape', 'cherry', 'pear', 'peach'], ['celery', 'white cabbage', 'lettuce'])]\n"
     ]
    }
   ],
   "source": [
    "print(food_list[0:3])\n",
    "print(food_list[-3:])"
   ]
  },
  {
   "cell_type": "code",
   "execution_count": 15,
   "id": "4c26d8a5",
   "metadata": {},
   "outputs": [
    {
     "name": "stdout",
     "output_type": "stream",
     "text": [
      "False\n",
      "True\n"
     ]
    }
   ],
   "source": [
    "asian_countries = ('India','China','Singapore','Thailand','Indonesia')\n",
    "print('Finland' in asian_countries)\n",
    "print('India' in asian_countries)"
   ]
  },
  {
   "cell_type": "code",
   "execution_count": null,
   "id": "c7fdc51b",
   "metadata": {},
   "outputs": [],
   "source": []
  }
 ],
 "metadata": {
  "kernelspec": {
   "display_name": "Python 3",
   "language": "python",
   "name": "python3"
  },
  "language_info": {
   "codemirror_mode": {
    "name": "ipython",
    "version": 3
   },
   "file_extension": ".py",
   "mimetype": "text/x-python",
   "name": "python",
   "nbconvert_exporter": "python",
   "pygments_lexer": "ipython3",
   "version": "3.8.8"
  }
 },
 "nbformat": 4,
 "nbformat_minor": 5
}
