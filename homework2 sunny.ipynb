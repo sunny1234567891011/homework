{
 "cells": [
  {
   "cell_type": "code",
   "execution_count": 2,
   "id": "750dff0a",
   "metadata": {},
   "outputs": [
    {
     "name": "stdout",
     "output_type": "stream",
     "text": [
      "23 is of type <class 'int'>\n",
      "166.0 is of type <class 'float'>\n",
      "(5+3j) is of type <class 'complex'>\n"
     ]
    }
   ],
   "source": [
    "age = 23\n",
    "height = 166.0\n",
    "complex_num = 5+3j\n",
    "print(age, 'is of type', type(age))\n",
    "print(height, 'is of type', type(height))\n",
    "print(complex_num, 'is of type', type(complex_num))"
   ]
  },
  {
   "cell_type": "code",
   "execution_count": 3,
   "id": "e435a099",
   "metadata": {},
   "outputs": [
    {
     "name": "stdout",
     "output_type": "stream",
     "text": [
      "输入base:6\n",
      "输入height:2\n",
      "The area of the triangle is 6.0\n"
     ]
    }
   ],
   "source": [
    "b = int(input('输入base:'))\n",
    "h = int(input('输入height:'))\n",
    "area = 0.5*b*h\n",
    "print('The area of the triangle is', area)"
   ]
  },
  {
   "cell_type": "code",
   "execution_count": 4,
   "id": "a6e1659b",
   "metadata": {},
   "outputs": [
    {
     "name": "stdout",
     "output_type": "stream",
     "text": [
      "输入side a:3\n",
      "输入side b:5\n",
      "输入side c:4\n",
      "The perimeter of the triangle is 12\n"
     ]
    }
   ],
   "source": [
    "a = int(input('输入side a:'))\n",
    "b = int(input('输入side b:'))\n",
    "c = int(input('输入side c:'))\n",
    "perimeter = a + b + c\n",
    "print('The perimeter of the triangle is', perimeter)"
   ]
  },
  {
   "cell_type": "code",
   "execution_count": 3,
   "id": "9000ab57",
   "metadata": {},
   "outputs": [
    {
     "name": "stdout",
     "output_type": "stream",
     "text": [
      "输入length:5\n",
      "输入width:6\n",
      "The area of the rectangle is 30\n",
      "The perimeter of the rectangle is 22\n"
     ]
    }
   ],
   "source": [
    "l = int(input('输入length:'))\n",
    "w = int(input('输入width:'))\n",
    "area = l*w\n",
    "perimeter = 2*(l+w)\n",
    "print('The area of the rectangle is', area)\n",
    "print('The perimeter of the rectangle is', perimeter)"
   ]
  },
  {
   "cell_type": "code",
   "execution_count": 4,
   "id": "cc3c2aca",
   "metadata": {},
   "outputs": [
    {
     "name": "stdout",
     "output_type": "stream",
     "text": [
      "输入radius:5\n",
      "The area of the rectangle is 78.5\n",
      "The circumference of the rectangle is 31.400000000000002\n"
     ]
    }
   ],
   "source": [
    "pi=3.14\n",
    "r = int(input('输入radius:'))\n",
    "area = pi*r**2\n",
    "c = 2*pi*r\n",
    "print('The area of the rectangle is', area)\n",
    "print('The circumference of the rectangle is', c)"
   ]
  },
  {
   "cell_type": "code",
   "execution_count": 5,
   "id": "25e37007",
   "metadata": {},
   "outputs": [
    {
     "name": "stdout",
     "output_type": "stream",
     "text": [
      "the y-intercept is 2\n",
      "the x-intercept is 1.0\n"
     ]
    }
   ],
   "source": [
    "x=0\n",
    "y=2*x-2\n",
    "print('the y-intercept is', -y)\n",
    "y=0\n",
    "x=(y+2)/2\n",
    "print('the x-intercept is', x)"
   ]
  },
  {
   "cell_type": "code",
   "execution_count": 6,
   "id": "78d100d7",
   "metadata": {},
   "outputs": [
    {
     "name": "stdout",
     "output_type": "stream",
     "text": [
      "1 0 2 2\n",
      "the slope is 2.0\n"
     ]
    }
   ],
   "source": [
    "x1=x=1\n",
    "y1=2*x-2\n",
    "x2=x=2\n",
    "y2=2*x-2\n",
    "print(x1,y1,x2,y2)\n",
    "k1=(y2-y1)/(x2-x1)\n",
    "print('the slope is', k1)"
   ]
  },
  {
   "cell_type": "code",
   "execution_count": 5,
   "id": "a5b9af17",
   "metadata": {},
   "outputs": [
    {
     "name": "stdout",
     "output_type": "stream",
     "text": [
      "the slope is 2.0\n",
      "Euclidean distance is 8.94427190999916\n"
     ]
    }
   ],
   "source": [
    "x1=2\n",
    "y1=2\n",
    "x2=6\n",
    "y2=10\n",
    "k2=(y2-y1)/(x2-x1)\n",
    "print('the slope is', k2)\n",
    "import numpy as np\n",
    "d = np.sqrt((x1-x2)**2+(y1-y2)**2)\n",
    "print('Euclidean distance is', d)"
   ]
  },
  {
   "cell_type": "code",
   "execution_count": 6,
   "id": "a443ae5b",
   "metadata": {},
   "outputs": [
    {
     "name": "stdout",
     "output_type": "stream",
     "text": [
      "False\n",
      "True\n",
      "False\n"
     ]
    }
   ],
   "source": [
    "print(k1>k2)\n",
    "print(k1==k2)\n",
    "print(k1<k2)"
   ]
  },
  {
   "cell_type": "code",
   "execution_count": 7,
   "id": "8976347f",
   "metadata": {
    "scrolled": true
   },
   "outputs": [
    {
     "name": "stdout",
     "output_type": "stream",
     "text": [
      "x的值：9\n",
      "y = 144\n"
     ]
    }
   ],
   "source": [
    "x=int(input('x的值：'))\n",
    "y=x**2+6*x+9\n",
    "print('y =', y)"
   ]
  },
  {
   "cell_type": "code",
   "execution_count": 14,
   "id": "849cd0a2",
   "metadata": {},
   "outputs": [
    {
     "name": "stdout",
     "output_type": "stream",
     "text": [
      "x的值：-3\n",
      "y = 0\n"
     ]
    }
   ],
   "source": [
    "x=int(input('x的值：'))\n",
    "y=x**2+6*x+9\n",
    "print('y =', y)"
   ]
  },
  {
   "cell_type": "code",
   "execution_count": 9,
   "id": "d5ae4d6a",
   "metadata": {},
   "outputs": [
    {
     "name": "stdout",
     "output_type": "stream",
     "text": [
      "the length of python: 6\n",
      "the length of datascience: 11\n",
      "True\n",
      "False\n",
      "False\n"
     ]
    }
   ],
   "source": [
    "print('the length of python:', len('python'))\n",
    "print('the length of datascience:', len('datascience'))\n",
    "print(len('python')<len('datascience'))\n",
    "print(len('python')==len('datascience'))\n",
    "print(len('python')>len('datscience'))"
   ]
  },
  {
   "cell_type": "code",
   "execution_count": 9,
   "id": "eadfe77b",
   "metadata": {},
   "outputs": [
    {
     "name": "stdout",
     "output_type": "stream",
     "text": [
      "on in python and cannon True\n"
     ]
    }
   ],
   "source": [
    "print('on in python and cannon', 'on' in 'python' and 'on' in 'cannon')"
   ]
  },
  {
   "cell_type": "code",
   "execution_count": 10,
   "id": "d3210430",
   "metadata": {},
   "outputs": [
    {
     "name": "stdout",
     "output_type": "stream",
     "text": [
      "True\n"
     ]
    }
   ],
   "source": [
    "print('jargon' in 'I hope this course is not full of jargon')"
   ]
  },
  {
   "cell_type": "code",
   "execution_count": 11,
   "id": "f023cdba",
   "metadata": {},
   "outputs": [
    {
     "name": "stdout",
     "output_type": "stream",
     "text": [
      "False\n"
     ]
    }
   ],
   "source": [
    "print('on' in 'python' and 'on' in 'cannon'== False)"
   ]
  },
  {
   "cell_type": "code",
   "execution_count": 10,
   "id": "b2c23055",
   "metadata": {},
   "outputs": [
    {
     "name": "stdout",
     "output_type": "stream",
     "text": [
      "length : 6 <class 'int'>\n",
      "float : 6.0 <class 'float'>\n",
      "string : 6 <class 'str'>\n"
     ]
    }
   ],
   "source": [
    "print('length :', len('python'), type(len('python')))\n",
    "print('float :', float(len('python')), type(float(len('python'))))\n",
    "print('string :', str(len('python')), type(str(len('python'))))"
   ]
  },
  {
   "cell_type": "code",
   "execution_count": 11,
   "id": "cb3f77c9",
   "metadata": {},
   "outputs": [
    {
     "name": "stdout",
     "output_type": "stream",
     "text": [
      "输入一个数：8\n",
      "偶数\n"
     ]
    }
   ],
   "source": [
    "while True:\n",
    "    num=int(input('输入一个数：'))\n",
    "    if num%2==0:\n",
    "        print('偶数')\n",
    "    else:\n",
    "        print('奇数')\n",
    "    break"
   ]
  },
  {
   "cell_type": "code",
   "execution_count": 14,
   "id": "b602acc1",
   "metadata": {},
   "outputs": [
    {
     "name": "stdout",
     "output_type": "stream",
     "text": [
      "False\n"
     ]
    }
   ],
   "source": [
    "print(7/3==int(2.7))"
   ]
  },
  {
   "cell_type": "code",
   "execution_count": 15,
   "id": "7cd5ed11",
   "metadata": {},
   "outputs": [
    {
     "name": "stdout",
     "output_type": "stream",
     "text": [
      "False\n"
     ]
    }
   ],
   "source": [
    "print(type('10')==type(10))"
   ]
  },
  {
   "cell_type": "code",
   "execution_count": 16,
   "id": "2f30b52b",
   "metadata": {},
   "outputs": [
    {
     "name": "stdout",
     "output_type": "stream",
     "text": [
      "False\n"
     ]
    }
   ],
   "source": [
    "print(int(9.6)==10)"
   ]
  },
  {
   "cell_type": "code",
   "execution_count": 12,
   "id": "461fcd84",
   "metadata": {},
   "outputs": [
    {
     "name": "stdout",
     "output_type": "stream",
     "text": [
      "输入hours:42\n",
      "输入rate per hour:4\n",
      "Your weekly earning is 168\n"
     ]
    }
   ],
   "source": [
    "hours = int(input('输入hours:'))\n",
    "rate_per_hour = int(input('输入rate per hour:'))\n",
    "weekly_earning = hours*rate_per_hour\n",
    "print('Your weekly earning is', weekly_earning)"
   ]
  },
  {
   "cell_type": "code",
   "execution_count": 13,
   "id": "941fca95",
   "metadata": {},
   "outputs": [
    {
     "name": "stdout",
     "output_type": "stream",
     "text": [
      "输入number of years you have lived:100\n",
      "You have lived for 3153600000 seconds\n"
     ]
    }
   ],
   "source": [
    "years = int(input('输入number of years you have lived:'))\n",
    "seconds = 31536000*years\n",
    "print('You have lived for', seconds, 'seconds')"
   ]
  },
  {
   "cell_type": "code",
   "execution_count": 19,
   "id": "d2de1782",
   "metadata": {},
   "outputs": [
    {
     "name": "stdout",
     "output_type": "stream",
     "text": [
      "1 2 3 4 5\n",
      "2 4 6 8 10\n",
      "3 6 9 12 15\n",
      "4 8 12 16 20\n",
      "5 10 15 20 25\n"
     ]
    }
   ],
   "source": [
    "a,b,c,d,e=1,2,3,4,5\n",
    "print(a,b,c,d,e)\n",
    "print(2*a,2*b,2*c,2*d,2*e)\n",
    "print(3*a,3*b,3*c,3*d,3*e)\n",
    "print(4*a,4*b,4*c,4*d,4*e)\n",
    "print(5*a,5*b,5*c,5*d,5*e)"
   ]
  },
  {
   "cell_type": "code",
   "execution_count": null,
   "id": "cc0e2dcf",
   "metadata": {},
   "outputs": [],
   "source": []
  }
 ],
 "metadata": {
  "kernelspec": {
   "display_name": "Python 3",
   "language": "python",
   "name": "python3"
  },
  "language_info": {
   "codemirror_mode": {
    "name": "ipython",
    "version": 3
   },
   "file_extension": ".py",
   "mimetype": "text/x-python",
   "name": "python",
   "nbconvert_exporter": "python",
   "pygments_lexer": "ipython3",
   "version": "3.8.8"
  }
 },
 "nbformat": 4,
 "nbformat_minor": 5
}
