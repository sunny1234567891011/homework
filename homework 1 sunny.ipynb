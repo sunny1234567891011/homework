{
 "cells": [
  {
   "cell_type": "code",
   "execution_count": null,
   "id": "178c7ea0",
   "metadata": {},
   "outputs": [],
   "source": []
  },
  {
   "cell_type": "code",
   "execution_count": null,
   "id": "ce1441c7",
   "metadata": {},
   "outputs": [],
   "source": [
    "# Python variables and Constants"
   ]
  },
  {
   "cell_type": "code",
   "execution_count": 2,
   "id": "4afae6f9",
   "metadata": {},
   "outputs": [
    {
     "name": "stdout",
     "output_type": "stream",
     "text": [
      "meimei\n"
     ]
    }
   ],
   "source": [
    "first_name = \"meimei\"\n",
    "print(first_name)"
   ]
  },
  {
   "cell_type": "code",
   "execution_count": 5,
   "id": "3cafae5c",
   "metadata": {},
   "outputs": [
    {
     "name": "stdout",
     "output_type": "stream",
     "text": [
      "jiang\n"
     ]
    }
   ],
   "source": [
    "last_name = \"jiang\"\n",
    "print(last_name)"
   ]
  },
  {
   "cell_type": "code",
   "execution_count": 6,
   "id": "38688b70",
   "metadata": {},
   "outputs": [
    {
     "name": "stdout",
     "output_type": "stream",
     "text": [
      "jiangmeimei\n"
     ]
    }
   ],
   "source": [
    " full_name = \"jiangmeimei\"\n",
    "print(full_name)  "
   ]
  },
  {
   "cell_type": "code",
   "execution_count": 7,
   "id": "33673ada",
   "metadata": {},
   "outputs": [
    {
     "data": {
      "text/plain": [
       "True"
      ]
     },
     "execution_count": 7,
     "metadata": {},
     "output_type": "execute_result"
    }
   ],
   "source": [
    "a = \"1\"\n",
    "b = a \n",
    "a is b"
   ]
  },
  {
   "cell_type": "code",
   "execution_count": 8,
   "id": "a4f612ee",
   "metadata": {},
   "outputs": [
    {
     "name": "stdout",
     "output_type": "stream",
     "text": [
      "meimei\n",
      "jiang\n",
      "jiangmeimei\n"
     ]
    }
   ],
   "source": [
    "first_name,last_name,full_name =\"meimei\",\"jiang\",\"jiangmeimei\"\n",
    "print(first_name)\n",
    "print(last_name)\n",
    "print(full_name)"
   ]
  },
  {
   "cell_type": "code",
   "execution_count": 9,
   "id": "b42bea13",
   "metadata": {},
   "outputs": [
    {
     "name": "stdout",
     "output_type": "stream",
     "text": [
      "<class 'str'>\n",
      "<class 'int'>\n",
      "<class 'float'>\n"
     ]
    }
   ],
   "source": [
    "first_name = \"meimei\"\n",
    "number = 5\n",
    "a = 3.2\n",
    "print(type(first_name))\n",
    "print(type(number))\n",
    "print(type(a))"
   ]
  },
  {
   "cell_type": "code",
   "execution_count": 12,
   "id": "7cfd914b",
   "metadata": {},
   "outputs": [
    {
     "name": "stdout",
     "output_type": "stream",
     "text": [
      "6\n",
      "5\n"
     ]
    }
   ],
   "source": [
    "first_name = \"meimei\"\n",
    "last_name = \"jiang\"\n",
    "print (len(first_name ))\n",
    "print (len(last_name ))"
   ]
  },
  {
   "cell_type": "code",
   "execution_count": 25,
   "id": "6ed1665c",
   "metadata": {},
   "outputs": [
    {
     "name": "stdout",
     "output_type": "stream",
     "text": [
      "True\n"
     ]
    }
   ],
   "source": [
    "print (len(\"first_name\")>  len(\"last_name\") )"
   ]
  },
  {
   "cell_type": "code",
   "execution_count": 28,
   "id": "0a66d7cc",
   "metadata": {},
   "outputs": [
    {
     "name": "stdout",
     "output_type": "stream",
     "text": [
      "total: 10\n",
      "difference: 2\n",
      "product: 24\n",
      "division: 1.5\n",
      "remainder: (4, 6)\n",
      "exp: 1296\n",
      "floor_division: 1\n"
     ]
    }
   ],
   "source": [
    "num_1 = 6\n",
    "num_2 = 4\n",
    "total = num_1 + num_2\n",
    "difference = num_1 - num_2\n",
    "product = num_1*num_2\n",
    "division = num_1/num_2\n",
    "remainder = (num_2,num_1)\n",
    "exp = num_1**num_2\n",
    "floor_division = num_1//num_2\n",
    "print('total:', total)\n",
    "print('difference:', difference)\n",
    "print('product:', product)\n",
    "print('division:', division)\n",
    "print('remainder:', remainder)\n",
    "print('exp:', exp)\n",
    "print('floor_division:', floor_division)"
   ]
  },
  {
   "cell_type": "code",
   "execution_count": 1,
   "id": "39916a2e",
   "metadata": {},
   "outputs": [
    {
     "name": "stdout",
     "output_type": "stream",
     "text": [
      "输入r30\n",
      "area of circle: 2827.4333882308138\n"
     ]
    }
   ],
   "source": [
    "import math\n",
    "r = int(input('输入r'))\n",
    "area_of_circle = math.pi*r**2\n",
    "print('area of circle:', area_of_circle)"
   ]
  },
  {
   "cell_type": "code",
   "execution_count": 4,
   "id": "4305b409",
   "metadata": {},
   "outputs": [
    {
     "name": "stdout",
     "output_type": "stream",
     "text": [
      "输入r30\n",
      "circum of circle: 188.49555921538757\n"
     ]
    }
   ],
   "source": [
    "import math\n",
    "r = int(input('输入r'))\n",
    "circum_of_circle = math.pi*r*2\n",
    "print('circum of circle:', circum_of_circle)"
   ]
  },
  {
   "cell_type": "code",
   "execution_count": 2,
   "id": "5be4b9f5",
   "metadata": {},
   "outputs": [
    {
     "name": "stdout",
     "output_type": "stream",
     "text": [
      "输入名字美梅\n",
      "输入姓氏江\n",
      "输入国家chian\n",
      "输入年龄24\n",
      "first name: 美梅\n",
      "last name: 江\n",
      "country: chian\n",
      "age: 24\n"
     ]
    }
   ],
   "source": [
    "first_name1 = input('输入名字')\n",
    "last_name1 = input('输入姓氏')\n",
    "country = input('输入国家')\n",
    "age = input('输入年龄')\n",
    "print('first name:', first_name1)\n",
    "print('last name:', last_name1)\n",
    "print('country:', country)\n",
    "print('age:', age)"
   ]
  },
  {
   "cell_type": "code",
   "execution_count": null,
   "id": "512ea8ce",
   "metadata": {},
   "outputs": [],
   "source": []
  },
  {
   "cell_type": "code",
   "execution_count": null,
   "id": "571adf5e",
   "metadata": {},
   "outputs": [],
   "source": []
  }
 ],
 "metadata": {
  "kernelspec": {
   "display_name": "Python 3",
   "language": "python",
   "name": "python3"
  },
  "language_info": {
   "codemirror_mode": {
    "name": "ipython",
    "version": 3
   },
   "file_extension": ".py",
   "mimetype": "text/x-python",
   "name": "python",
   "nbconvert_exporter": "python",
   "pygments_lexer": "ipython3",
   "version": "3.8.8"
  }
 },
 "nbformat": 4,
 "nbformat_minor": 5
}
